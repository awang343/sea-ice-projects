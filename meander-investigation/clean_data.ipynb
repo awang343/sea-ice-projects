{
 "cells": [
  {
   "cell_type": "code",
   "execution_count": 1,
   "metadata": {},
   "outputs": [],
   "source": [
    "from pathlib import Path\n",
    "import pandas as pd\n",
    "import sys\n",
    "import os\n",
    "from helpers import process_position\n",
    "import numpy as np\n",
    "import matplotlib.pyplot as plt\n",
    "import seaborn as sns\n",
    "\n",
    "three_hourly_file_list = list(Path(\"data/raw/3HOURLY_DATA\").rglob(\"*.[cC][sS][vV]\"))\n",
    "level_one_file_list = list(Path(\"data/raw/L1_DATA\").rglob(\"*.[cC][sS][vV]\"))"
   ]
  },
  {
   "cell_type": "code",
   "execution_count": 2,
   "metadata": {},
   "outputs": [],
   "source": [
    "#%%sh\n",
    "#./reset.sh"
   ]
  },
  {
   "cell_type": "code",
   "execution_count": 3,
   "metadata": {},
   "outputs": [
    {
     "name": "stdout",
     "output_type": "stream",
     "text": [
      "[==================================================================                                  ] 66%"
     ]
    },
    {
     "ename": "KeyboardInterrupt",
     "evalue": "",
     "output_type": "error",
     "traceback": [
      "\u001b[0;31m---------------------------------------------------------------------------\u001b[0m",
      "\u001b[0;31mKeyboardInterrupt\u001b[0m                         Traceback (most recent call last)",
      "Cell \u001b[0;32mIn[3], line 36\u001b[0m\n\u001b[1;32m     33\u001b[0m \u001b[38;5;28;01mif\u001b[39;00m \u001b[38;5;129;01mnot\u001b[39;00m overwrite \u001b[38;5;129;01mand\u001b[39;00m \u001b[38;5;124mf\u001b[39m\u001b[38;5;124m\"\u001b[39m\u001b[38;5;132;01m{\u001b[39;00mbuoy\u001b[38;5;132;01m}\u001b[39;00m\u001b[38;5;124m.csv\u001b[39m\u001b[38;5;124m\"\u001b[39m \u001b[38;5;129;01min\u001b[39;00m os\u001b[38;5;241m.\u001b[39mlistdir(\u001b[38;5;124m\"\u001b[39m\u001b[38;5;124mclean_positions\u001b[39m\u001b[38;5;124m\"\u001b[39m):\n\u001b[1;32m     34\u001b[0m    \u001b[38;5;28;01mcontinue\u001b[39;00m\n\u001b[0;32m---> 36\u001b[0m clean \u001b[38;5;241m=\u001b[39m \u001b[43mprocess_position\u001b[49m\u001b[38;5;241;43m.\u001b[39;49m\u001b[43mclean_location_df\u001b[49m\u001b[43m(\u001b[49m\u001b[43mdata\u001b[49m\u001b[43m)\u001b[49m\n\u001b[1;32m     38\u001b[0m \u001b[38;5;28;01mif\u001b[39;00m clean \u001b[38;5;129;01mis\u001b[39;00m \u001b[38;5;129;01mnot\u001b[39;00m \u001b[38;5;28;01mNone\u001b[39;00m:\n\u001b[1;32m     39\u001b[0m    clean\u001b[38;5;241m.\u001b[39mto_csv(\u001b[38;5;124mf\u001b[39m\u001b[38;5;124m\"\u001b[39m\u001b[38;5;124mclean_positions/\u001b[39m\u001b[38;5;132;01m{\u001b[39;00mbuoy\u001b[38;5;132;01m}\u001b[39;00m\u001b[38;5;124m.csv\u001b[39m\u001b[38;5;124m\"\u001b[39m)\n",
      "File \u001b[0;32m~/active-projects/sea-ice-data/helpers/process_position.py:45\u001b[0m, in \u001b[0;36mclean_location_df\u001b[0;34m(loc_df)\u001b[0m\n\u001b[1;32m     39\u001b[0m freq_hrs \u001b[38;5;241m=\u001b[39m \u001b[38;5;28mstr\u001b[39m(\u001b[38;5;28mint\u001b[39m(freq\u001b[38;5;241m.\u001b[39mreplace(\u001b[38;5;124m'\u001b[39m\u001b[38;5;124mmin\u001b[39m\u001b[38;5;124m'\u001b[39m,\u001b[38;5;124m'\u001b[39m\u001b[38;5;124m'\u001b[39m)) \u001b[38;5;241m*\u001b[39m \u001b[38;5;241m3\u001b[39m) \u001b[38;5;241m+\u001b[39m \u001b[38;5;124m'\u001b[39m\u001b[38;5;124mmin\u001b[39m\u001b[38;5;124m'\u001b[39m\n\u001b[1;32m     41\u001b[0m \u001b[38;5;66;03m# The \"standard_qc\" function can be adjusted if needed\u001b[39;00m\n\u001b[1;32m     42\u001b[0m \u001b[38;5;66;03m# It's in the \"icedrift.cleaning\" module and strings together\u001b[39;00m\n\u001b[1;32m     43\u001b[0m \u001b[38;5;66;03m# the QC steps\u001b[39;00m\n\u001b[0;32m---> 45\u001b[0m df_qc \u001b[38;5;241m=\u001b[39m \u001b[43mcleaning\u001b[49m\u001b[38;5;241;43m.\u001b[39;49m\u001b[43mstandard_qc\u001b[49m\u001b[43m(\u001b[49m\u001b[43mloc_df\u001b[49m\u001b[43m,\u001b[49m\n\u001b[1;32m     46\u001b[0m \u001b[43m                    \u001b[49m\u001b[43mmin_size\u001b[49m\u001b[38;5;241;43m=\u001b[39;49m\u001b[38;5;241;43m100\u001b[39;49m\u001b[43m,\u001b[49m\n\u001b[1;32m     47\u001b[0m \u001b[43m                    \u001b[49m\u001b[43mgap_threshold\u001b[49m\u001b[38;5;241;43m=\u001b[39;49m\u001b[43mfreq_hrs\u001b[49m\u001b[43m,\u001b[49m\u001b[43m                \u001b[49m\n\u001b[1;32m     48\u001b[0m \u001b[43m                    \u001b[49m\u001b[43msegment_length\u001b[49m\u001b[38;5;241;43m=\u001b[39;49m\u001b[38;5;241;43m24\u001b[39;49m\u001b[43m,\u001b[49m\n\u001b[1;32m     49\u001b[0m \u001b[43m                    \u001b[49m\u001b[43mlon_range\u001b[49m\u001b[38;5;241;43m=\u001b[39;49m\u001b[43m(\u001b[49m\u001b[38;5;241;43m-\u001b[39;49m\u001b[38;5;241;43m180\u001b[39;49m\u001b[43m,\u001b[49m\u001b[43m \u001b[49m\u001b[38;5;241;43m180\u001b[39;49m\u001b[43m)\u001b[49m\u001b[43m,\u001b[49m\n\u001b[1;32m     50\u001b[0m \u001b[43m                    \u001b[49m\u001b[43mlat_range\u001b[49m\u001b[38;5;241;43m=\u001b[39;49m\u001b[43m(\u001b[49m\u001b[38;5;241;43m50\u001b[39;49m\u001b[43m,\u001b[49m\u001b[43m \u001b[49m\u001b[38;5;241;43m90\u001b[39;49m\u001b[43m)\u001b[49m\u001b[43m,\u001b[49m\n\u001b[1;32m     51\u001b[0m \u001b[43m                    \u001b[49m\u001b[43mmax_speed\u001b[49m\u001b[38;5;241;43m=\u001b[39;49m\u001b[38;5;241;43m1.5\u001b[39;49m\u001b[43m,\u001b[49m\n\u001b[1;32m     52\u001b[0m \u001b[43m                    \u001b[49m\u001b[43mspeed_window\u001b[49m\u001b[38;5;241;43m=\u001b[39;49m\u001b[38;5;124;43m'\u001b[39;49m\u001b[38;5;124;43m3D\u001b[39;49m\u001b[38;5;124;43m'\u001b[39;49m\u001b[43m,\u001b[49m\n\u001b[1;32m     53\u001b[0m \u001b[43m                    \u001b[49m\u001b[43mverbose\u001b[49m\u001b[38;5;241;43m=\u001b[39;49m\u001b[38;5;28;43;01mFalse\u001b[39;49;00m\u001b[43m)\u001b[49m\n\u001b[1;32m     56\u001b[0m interpolatable \u001b[38;5;241m=\u001b[39m df_qc \u001b[38;5;129;01mis\u001b[39;00m \u001b[38;5;129;01mnot\u001b[39;00m \u001b[38;5;28;01mNone\u001b[39;00m\n\u001b[1;32m     57\u001b[0m \u001b[38;5;28;01mif\u001b[39;00m interpolatable:\n",
      "File \u001b[0;32m~/active-projects/icedrift/src/icedrift/cleaning.py:254\u001b[0m, in \u001b[0;36mstandard_qc\u001b[0;34m(buoy_df, min_size, gap_threshold, segment_length, lon_range, lat_range, max_speed, speed_window, speed_sigma, verbose)\u001b[0m\n\u001b[1;32m    251\u001b[0m     \u001b[38;5;28;01mreturn\u001b[39;00m \u001b[38;5;28;01mNone\u001b[39;00m\n\u001b[1;32m    253\u001b[0m \u001b[38;5;66;03m# Check speed\u001b[39;00m\n\u001b[0;32m--> 254\u001b[0m flag_speed \u001b[38;5;241m=\u001b[39m \u001b[43mcheck_speed\u001b[49m\u001b[43m(\u001b[49m\u001b[43mgood_buoy_df\u001b[49m\u001b[43m,\u001b[49m\u001b[43m \u001b[49m\u001b[43mwindow\u001b[49m\u001b[38;5;241;43m=\u001b[39;49m\u001b[43mspeed_window\u001b[49m\u001b[43m,\u001b[49m\u001b[43m \u001b[49m\u001b[43mmax_speed\u001b[49m\u001b[38;5;241;43m=\u001b[39;49m\u001b[43mmax_speed\u001b[49m\u001b[43m,\u001b[49m\u001b[43m \u001b[49m\u001b[43msigma\u001b[49m\u001b[38;5;241;43m=\u001b[39;49m\u001b[43mspeed_sigma\u001b[49m\u001b[43m)\u001b[49m\n\u001b[1;32m    255\u001b[0m good_buoy_df \u001b[38;5;241m=\u001b[39m good_buoy_df\u001b[38;5;241m.\u001b[39mloc[\u001b[38;5;241m~\u001b[39mflag_speed]\u001b[38;5;241m.\u001b[39mcopy()\n\u001b[1;32m    257\u001b[0m \u001b[38;5;28;01mif\u001b[39;00m \u001b[38;5;28mlen\u001b[39m(good_buoy_df) \u001b[38;5;241m<\u001b[39m min_size:\n",
      "File \u001b[0;32m~/active-projects/icedrift/src/icedrift/cleaning.py:164\u001b[0m, in \u001b[0;36mcheck_speed\u001b[0;34m(buoy_df, date_index, window, sigma, max_speed)\u001b[0m\n\u001b[1;32m    161\u001b[0m \u001b[38;5;28;01mif\u001b[39;00m (np\u001b[38;5;241m.\u001b[39mabs(zu[date]) \u001b[38;5;241m>\u001b[39m \u001b[38;5;241m3\u001b[39m) \u001b[38;5;241m|\u001b[39m (np\u001b[38;5;241m.\u001b[39mabs(zv[date]) \u001b[38;5;241m>\u001b[39m \u001b[38;5;241m3\u001b[39m):\n\u001b[1;32m    162\u001b[0m     \u001b[38;5;66;03m# Select part of the data frame that is 2*n_min larger than the window\u001b[39;00m\n\u001b[1;32m    163\u001b[0m     idx \u001b[38;5;241m=\u001b[39m df\u001b[38;5;241m.\u001b[39mindex[np\u001b[38;5;241m.\u001b[39mabs(df\u001b[38;5;241m.\u001b[39mindex \u001b[38;5;241m-\u001b[39m date) \u001b[38;5;241m<\u001b[39m (\u001b[38;5;241m1.5\u001b[39m\u001b[38;5;241m*\u001b[39mwindow)]\u001b[38;5;241m.\u001b[39mdrop(date)\n\u001b[0;32m--> 164\u001b[0m     df_new \u001b[38;5;241m=\u001b[39m \u001b[43mcompute_velocity\u001b[49m\u001b[43m(\u001b[49m\u001b[43mdf\u001b[49m\u001b[38;5;241;43m.\u001b[39;49m\u001b[43mdrop\u001b[49m\u001b[43m(\u001b[49m\u001b[43mdate\u001b[49m\u001b[43m)\u001b[49m\u001b[38;5;241;43m.\u001b[39;49m\u001b[43mloc\u001b[49m\u001b[43m[\u001b[49m\u001b[43midx\u001b[49m\u001b[43m,\u001b[49m\u001b[43m:\u001b[49m\u001b[43m]\u001b[49m\u001b[43m,\u001b[49m\u001b[43m \u001b[49m\u001b[43mmethod\u001b[49m\u001b[38;5;241;43m=\u001b[39;49m\u001b[38;5;124;43m'\u001b[39;49m\u001b[38;5;124;43mfb\u001b[39;49m\u001b[38;5;124;43m'\u001b[39;49m\u001b[43m)\u001b[49m\n\u001b[1;32m    165\u001b[0m     zu_idx, zv_idx \u001b[38;5;241m=\u001b[39m zscore(df_new, window, n_min)\n\u001b[1;32m    167\u001b[0m     idx \u001b[38;5;241m=\u001b[39m zu_idx\u001b[38;5;241m.\u001b[39mindex[np\u001b[38;5;241m.\u001b[39mabs(zu_idx\u001b[38;5;241m.\u001b[39mindex \u001b[38;5;241m-\u001b[39m date) \u001b[38;5;241m<\u001b[39m (\u001b[38;5;241m0.5\u001b[39m\u001b[38;5;241m*\u001b[39mwindow)]\n",
      "File \u001b[0;32m~/active-projects/icedrift/src/icedrift/analysis.py:80\u001b[0m, in \u001b[0;36mcompute_velocity\u001b[0;34m(buoy_df, date_index, rotate_uv, method)\u001b[0m\n\u001b[1;32m     78\u001b[0m     dydt \u001b[38;5;241m=\u001b[39m (buoy_df[\u001b[38;5;124m'\u001b[39m\u001b[38;5;124my\u001b[39m\u001b[38;5;124m'\u001b[39m]\u001b[38;5;241m.\u001b[39mshift(\u001b[38;5;241m-\u001b[39m\u001b[38;5;241m1\u001b[39m) \u001b[38;5;241m-\u001b[39m buoy_df[\u001b[38;5;124m'\u001b[39m\u001b[38;5;124my\u001b[39m\u001b[38;5;124m'\u001b[39m]\u001b[38;5;241m.\u001b[39mshift(\u001b[38;5;241m1\u001b[39m))\u001b[38;5;241m/\u001b[39mdt\n\u001b[1;32m     79\u001b[0m \u001b[38;5;28;01melif\u001b[39;00m method \u001b[38;5;129;01min\u001b[39;00m [\u001b[38;5;124m'\u001b[39m\u001b[38;5;124mfb\u001b[39m\u001b[38;5;124m'\u001b[39m, \u001b[38;5;124m'\u001b[39m\u001b[38;5;124mbf\u001b[39m\u001b[38;5;124m'\u001b[39m, \u001b[38;5;124m'\u001b[39m\u001b[38;5;124mforward_backward\u001b[39m\u001b[38;5;124m'\u001b[39m]:\n\u001b[0;32m---> 80\u001b[0m     dxdt \u001b[38;5;241m=\u001b[39m np\u001b[38;5;241m.\u001b[39msign(bwd_dxdt)\u001b[38;5;241m*\u001b[39m\u001b[43mnp\u001b[49m\u001b[38;5;241;43m.\u001b[39;49m\u001b[43mabs\u001b[49m\u001b[43m(\u001b[49m\u001b[43mpd\u001b[49m\u001b[38;5;241;43m.\u001b[39;49m\u001b[43mDataFrame\u001b[49m\u001b[43m(\u001b[49m\u001b[43m{\u001b[49m\u001b[38;5;124;43m'\u001b[39;49m\u001b[38;5;124;43mf\u001b[39;49m\u001b[38;5;124;43m'\u001b[39;49m\u001b[43m:\u001b[49m\u001b[43m \u001b[49m\u001b[43mfwd_dxdt\u001b[49m\u001b[43m,\u001b[49m\u001b[43m \u001b[49m\u001b[38;5;124;43m'\u001b[39;49m\u001b[38;5;124;43mb\u001b[39;49m\u001b[38;5;124;43m'\u001b[39;49m\u001b[43m:\u001b[49m\u001b[43mbwd_dxdt\u001b[49m\u001b[43m}\u001b[49m\u001b[43m)\u001b[49m\u001b[43m)\u001b[49m\u001b[38;5;241m.\u001b[39mmin(axis\u001b[38;5;241m=\u001b[39m\u001b[38;5;241m1\u001b[39m)\n\u001b[1;32m     81\u001b[0m     dydt \u001b[38;5;241m=\u001b[39m np\u001b[38;5;241m.\u001b[39msign(bwd_dydt)\u001b[38;5;241m*\u001b[39mnp\u001b[38;5;241m.\u001b[39mabs(pd\u001b[38;5;241m.\u001b[39mDataFrame({\u001b[38;5;124m'\u001b[39m\u001b[38;5;124mf\u001b[39m\u001b[38;5;124m'\u001b[39m: fwd_dydt, \u001b[38;5;124m'\u001b[39m\u001b[38;5;124mb\u001b[39m\u001b[38;5;124m'\u001b[39m:bwd_dydt}))\u001b[38;5;241m.\u001b[39mmin(axis\u001b[38;5;241m=\u001b[39m\u001b[38;5;241m1\u001b[39m)\n\u001b[1;32m     82\u001b[0m \u001b[38;5;28;01melse\u001b[39;00m:\n",
      "File \u001b[0;32m~/.micromamba/envs/ecco-sea-ice/lib/python3.9/site-packages/pandas/core/generic.py:2171\u001b[0m, in \u001b[0;36mNDFrame.__array_ufunc__\u001b[0;34m(self, ufunc, method, *inputs, **kwargs)\u001b[0m\n\u001b[1;32m   2167\u001b[0m \u001b[38;5;129m@final\u001b[39m\n\u001b[1;32m   2168\u001b[0m \u001b[38;5;28;01mdef\u001b[39;00m \u001b[38;5;21m__array_ufunc__\u001b[39m(\n\u001b[1;32m   2169\u001b[0m     \u001b[38;5;28mself\u001b[39m, ufunc: np\u001b[38;5;241m.\u001b[39mufunc, method: \u001b[38;5;28mstr\u001b[39m, \u001b[38;5;241m*\u001b[39minputs: Any, \u001b[38;5;241m*\u001b[39m\u001b[38;5;241m*\u001b[39mkwargs: Any\n\u001b[1;32m   2170\u001b[0m ):\n\u001b[0;32m-> 2171\u001b[0m     \u001b[38;5;28;01mreturn\u001b[39;00m \u001b[43marraylike\u001b[49m\u001b[38;5;241;43m.\u001b[39;49m\u001b[43marray_ufunc\u001b[49m\u001b[43m(\u001b[49m\u001b[38;5;28;43mself\u001b[39;49m\u001b[43m,\u001b[49m\u001b[43m \u001b[49m\u001b[43mufunc\u001b[49m\u001b[43m,\u001b[49m\u001b[43m \u001b[49m\u001b[43mmethod\u001b[49m\u001b[43m,\u001b[49m\u001b[43m \u001b[49m\u001b[38;5;241;43m*\u001b[39;49m\u001b[43minputs\u001b[49m\u001b[43m,\u001b[49m\u001b[43m \u001b[49m\u001b[38;5;241;43m*\u001b[39;49m\u001b[38;5;241;43m*\u001b[39;49m\u001b[43mkwargs\u001b[49m\u001b[43m)\u001b[49m\n",
      "File \u001b[0;32m~/.micromamba/envs/ecco-sea-ice/lib/python3.9/site-packages/pandas/core/arraylike.py:276\u001b[0m, in \u001b[0;36marray_ufunc\u001b[0;34m(self, ufunc, method, *inputs, **kwargs)\u001b[0m\n\u001b[1;32m    273\u001b[0m kwargs \u001b[38;5;241m=\u001b[39m _standardize_out_kwarg(\u001b[38;5;241m*\u001b[39m\u001b[38;5;241m*\u001b[39mkwargs)\n\u001b[1;32m    275\u001b[0m \u001b[38;5;66;03m# for binary ops, use our custom dunder methods\u001b[39;00m\n\u001b[0;32m--> 276\u001b[0m result \u001b[38;5;241m=\u001b[39m \u001b[43mmaybe_dispatch_ufunc_to_dunder_op\u001b[49m\u001b[43m(\u001b[49m\u001b[38;5;28;43mself\u001b[39;49m\u001b[43m,\u001b[49m\u001b[43m \u001b[49m\u001b[43mufunc\u001b[49m\u001b[43m,\u001b[49m\u001b[43m \u001b[49m\u001b[43mmethod\u001b[49m\u001b[43m,\u001b[49m\u001b[43m \u001b[49m\u001b[38;5;241;43m*\u001b[39;49m\u001b[43minputs\u001b[49m\u001b[43m,\u001b[49m\u001b[43m \u001b[49m\u001b[38;5;241;43m*\u001b[39;49m\u001b[38;5;241;43m*\u001b[39;49m\u001b[43mkwargs\u001b[49m\u001b[43m)\u001b[49m\n\u001b[1;32m    277\u001b[0m \u001b[38;5;28;01mif\u001b[39;00m result \u001b[38;5;129;01mis\u001b[39;00m \u001b[38;5;129;01mnot\u001b[39;00m \u001b[38;5;28mNotImplemented\u001b[39m:\n\u001b[1;32m    278\u001b[0m     \u001b[38;5;28;01mreturn\u001b[39;00m result\n",
      "File \u001b[0;32mops_dispatch.pyx:105\u001b[0m, in \u001b[0;36mpandas._libs.ops_dispatch.maybe_dispatch_ufunc_to_dunder_op\u001b[0;34m()\u001b[0m\n",
      "File \u001b[0;32m~/.micromamba/envs/ecco-sea-ice/lib/python3.9/site-packages/pandas/core/generic.py:1726\u001b[0m, in \u001b[0;36mNDFrame.__abs__\u001b[0;34m(self)\u001b[0m\n\u001b[1;32m   1724\u001b[0m \u001b[38;5;129m@final\u001b[39m\n\u001b[1;32m   1725\u001b[0m \u001b[38;5;28;01mdef\u001b[39;00m \u001b[38;5;21m__abs__\u001b[39m(\u001b[38;5;28mself\u001b[39m) \u001b[38;5;241m-\u001b[39m\u001b[38;5;241m>\u001b[39m Self:\n\u001b[0;32m-> 1726\u001b[0m     \u001b[38;5;28;01mreturn\u001b[39;00m \u001b[38;5;28;43mself\u001b[39;49m\u001b[38;5;241;43m.\u001b[39;49m\u001b[43mabs\u001b[49m\u001b[43m(\u001b[49m\u001b[43m)\u001b[49m\n",
      "File \u001b[0;32m~/.micromamba/envs/ecco-sea-ice/lib/python3.9/site-packages/pandas/core/generic.py:1719\u001b[0m, in \u001b[0;36mNDFrame.abs\u001b[0;34m(self)\u001b[0m\n\u001b[1;32m   1651\u001b[0m \u001b[38;5;129m@final\u001b[39m\n\u001b[1;32m   1652\u001b[0m \u001b[38;5;28;01mdef\u001b[39;00m \u001b[38;5;21mabs\u001b[39m(\u001b[38;5;28mself\u001b[39m) \u001b[38;5;241m-\u001b[39m\u001b[38;5;241m>\u001b[39m Self:\n\u001b[1;32m   1653\u001b[0m \u001b[38;5;250m    \u001b[39m\u001b[38;5;124;03m\"\"\"\u001b[39;00m\n\u001b[1;32m   1654\u001b[0m \u001b[38;5;124;03m    Return a Series/DataFrame with absolute numeric value of each element.\u001b[39;00m\n\u001b[1;32m   1655\u001b[0m \n\u001b[0;32m   (...)\u001b[0m\n\u001b[1;32m   1717\u001b[0m \u001b[38;5;124;03m    3    7   40  -50\u001b[39;00m\n\u001b[1;32m   1718\u001b[0m \u001b[38;5;124;03m    \"\"\"\u001b[39;00m\n\u001b[0;32m-> 1719\u001b[0m     res_mgr \u001b[38;5;241m=\u001b[39m \u001b[38;5;28;43mself\u001b[39;49m\u001b[38;5;241;43m.\u001b[39;49m\u001b[43m_mgr\u001b[49m\u001b[38;5;241;43m.\u001b[39;49m\u001b[43mapply\u001b[49m\u001b[43m(\u001b[49m\u001b[43mnp\u001b[49m\u001b[38;5;241;43m.\u001b[39;49m\u001b[43mabs\u001b[49m\u001b[43m)\u001b[49m\n\u001b[1;32m   1720\u001b[0m     \u001b[38;5;28;01mreturn\u001b[39;00m \u001b[38;5;28mself\u001b[39m\u001b[38;5;241m.\u001b[39m_constructor_from_mgr(res_mgr, axes\u001b[38;5;241m=\u001b[39mres_mgr\u001b[38;5;241m.\u001b[39maxes)\u001b[38;5;241m.\u001b[39m__finalize__(\n\u001b[1;32m   1721\u001b[0m         \u001b[38;5;28mself\u001b[39m, name\u001b[38;5;241m=\u001b[39m\u001b[38;5;124m\"\u001b[39m\u001b[38;5;124mabs\u001b[39m\u001b[38;5;124m\"\u001b[39m\n\u001b[1;32m   1722\u001b[0m     )\n",
      "File \u001b[0;32m~/.micromamba/envs/ecco-sea-ice/lib/python3.9/site-packages/pandas/core/internals/managers.py:361\u001b[0m, in \u001b[0;36mBaseBlockManager.apply\u001b[0;34m(self, f, align_keys, **kwargs)\u001b[0m\n\u001b[1;32m    358\u001b[0m             kwargs[k] \u001b[38;5;241m=\u001b[39m obj[b\u001b[38;5;241m.\u001b[39mmgr_locs\u001b[38;5;241m.\u001b[39mindexer]\n\u001b[1;32m    360\u001b[0m \u001b[38;5;28;01mif\u001b[39;00m \u001b[38;5;28mcallable\u001b[39m(f):\n\u001b[0;32m--> 361\u001b[0m     applied \u001b[38;5;241m=\u001b[39m \u001b[43mb\u001b[49m\u001b[38;5;241;43m.\u001b[39;49m\u001b[43mapply\u001b[49m\u001b[43m(\u001b[49m\u001b[43mf\u001b[49m\u001b[43m,\u001b[49m\u001b[43m \u001b[49m\u001b[38;5;241;43m*\u001b[39;49m\u001b[38;5;241;43m*\u001b[39;49m\u001b[43mkwargs\u001b[49m\u001b[43m)\u001b[49m\n\u001b[1;32m    362\u001b[0m \u001b[38;5;28;01melse\u001b[39;00m:\n\u001b[1;32m    363\u001b[0m     applied \u001b[38;5;241m=\u001b[39m \u001b[38;5;28mgetattr\u001b[39m(b, f)(\u001b[38;5;241m*\u001b[39m\u001b[38;5;241m*\u001b[39mkwargs)\n",
      "File \u001b[0;32m~/.micromamba/envs/ecco-sea-ice/lib/python3.9/site-packages/pandas/core/internals/blocks.py:393\u001b[0m, in \u001b[0;36mBlock.apply\u001b[0;34m(self, func, **kwargs)\u001b[0m\n\u001b[1;32m    387\u001b[0m \u001b[38;5;129m@final\u001b[39m\n\u001b[1;32m    388\u001b[0m \u001b[38;5;28;01mdef\u001b[39;00m \u001b[38;5;21mapply\u001b[39m(\u001b[38;5;28mself\u001b[39m, func, \u001b[38;5;241m*\u001b[39m\u001b[38;5;241m*\u001b[39mkwargs) \u001b[38;5;241m-\u001b[39m\u001b[38;5;241m>\u001b[39m \u001b[38;5;28mlist\u001b[39m[Block]:\n\u001b[1;32m    389\u001b[0m \u001b[38;5;250m    \u001b[39m\u001b[38;5;124;03m\"\"\"\u001b[39;00m\n\u001b[1;32m    390\u001b[0m \u001b[38;5;124;03m    apply the function to my values; return a block if we are not\u001b[39;00m\n\u001b[1;32m    391\u001b[0m \u001b[38;5;124;03m    one\u001b[39;00m\n\u001b[1;32m    392\u001b[0m \u001b[38;5;124;03m    \"\"\"\u001b[39;00m\n\u001b[0;32m--> 393\u001b[0m     result \u001b[38;5;241m=\u001b[39m \u001b[43mfunc\u001b[49m\u001b[43m(\u001b[49m\u001b[38;5;28;43mself\u001b[39;49m\u001b[38;5;241;43m.\u001b[39;49m\u001b[43mvalues\u001b[49m\u001b[43m,\u001b[49m\u001b[43m \u001b[49m\u001b[38;5;241;43m*\u001b[39;49m\u001b[38;5;241;43m*\u001b[39;49m\u001b[43mkwargs\u001b[49m\u001b[43m)\u001b[49m\n\u001b[1;32m    395\u001b[0m     result \u001b[38;5;241m=\u001b[39m maybe_coerce_values(result)\n\u001b[1;32m    396\u001b[0m     \u001b[38;5;28;01mreturn\u001b[39;00m \u001b[38;5;28mself\u001b[39m\u001b[38;5;241m.\u001b[39m_split_op_result(result)\n",
      "\u001b[0;31mKeyboardInterrupt\u001b[0m: "
     ]
    }
   ],
   "source": [
    "overwrite = True\n",
    "show_progress = True\n",
    "\n",
    "for f in level_one_file_list[0:1]:\n",
    "    if \"2023\" not in str(f):\n",
    "        minute_label = \"Minute\"\n",
    "        second_label = \"Second\"\n",
    "    else:\n",
    "        minute_label = \"Min\"\n",
    "        second_label = \"Sec\"\n",
    "\n",
    "    l1_year = pd.read_csv(f, usecols = [\"BuoyID\", \"Lat\", \"Lon\", \"Year\", \"Month\", \"Day\", \"Hour\", minute_label, second_label])\n",
    "    l1_year = l1_year.rename(columns = {minute_label:\"Minute\", second_label:\"Second\", \"Lat\": \"latitude\", \"Lon\": \"longitude\"})\n",
    "    l1_year[\"timestamp\"] = pd.to_datetime(l1_year[[\"Year\", \"Month\", \"Day\", \"Hour\", \"Minute\", \"Second\"]])\n",
    "    l1_year = l1_year.set_index(\"timestamp\")\n",
    "\n",
    "    l1_year = l1_year.drop(columns=[\"Year\", \"Month\", \"Day\", \"Hour\", \"Minute\", \"Second\"])\n",
    "\n",
    "    groups = l1_year.groupby(\"BuoyID\")\n",
    "    total_buoys = len(groups)\n",
    "    buoys_complete = 0\n",
    "\n",
    "    for buoy, data in groups:\n",
    "        if int(buoy) < 10**6:\n",
    "            continue\n",
    "        if show_progress:\n",
    "            buoys_complete += 1\n",
    "            sys.stdout.write('\\r')\n",
    "            count = buoys_complete / total_buoys\n",
    "            sys.stdout.write(\"[%-100s] %d%%\" % ('='*int(100*count), int(100/total_buoys*buoys_complete)))\n",
    "            sys.stdout.flush()\n",
    "\n",
    "        if not overwrite and f\"{buoy}.csv\" in os.listdir(\"data/clean_positions\"):\n",
    "           continue\n",
    "\n",
    "        clean = process_position.clean_location_df(data)\n",
    "\n",
    "        if clean is not None:\n",
    "           clean.to_csv(f\"data/clean_positions/{buoy}.csv\")\n",
    "    print(f)"
   ]
  },
  {
   "cell_type": "code",
   "execution_count": 4,
   "metadata": {},
   "outputs": [],
   "source": [
    "# for f in three_hourly_file_list:\n",
    "#     h3_data = pd.read_csv(f, usecols = [\"BuoyID\", \"Lat\", \"Lon\", \"Year\", \"Hour\", \"DOY\"])\n",
    "#     for buoy, data in h3_data.groupby(\"BuoyID\"):\n",
    "#         data.to_csv(f\"data/clean_positions/{buoy}.csv\")"
   ]
  },
  {
   "cell_type": "code",
   "execution_count": 5,
   "metadata": {},
   "outputs": [],
   "source": [
    "loc = \"data/clean_positions/\"\n",
    "ranges = {}\n",
    "\n",
    "for fname in os.listdir(loc):\n",
    "    data = pd.read_csv(loc+fname)\n",
    "    buoy_id = fname.split(\".csv\")[0]\n",
    "    ranges[buoy_id] = []\n",
    "    ranges[buoy_id].append(data.iloc[0][\"datetime\"])\n",
    "    ranges[buoy_id].append(data.iloc[-1][\"datetime\"])"
   ]
  },
  {
   "cell_type": "code",
   "execution_count": 35,
   "metadata": {},
   "outputs": [
    {
     "name": "stdout",
     "output_type": "stream",
     "text": [
      "(Timestamp('2020-12-31 23:00:00'), '300234066219740')\n"
     ]
    }
   ],
   "source": [
    "metadata = pd.DataFrame(ranges).transpose()\n",
    "metadata = metadata.rename(columns={0: \"start\", 1: \"end\"})\n",
    "metadata[\"start\"] = pd.to_datetime(metadata[\"start\"])\n",
    "metadata[\"end\"] = pd.to_datetime(metadata[\"end\"])\n",
    "\n",
    "starts = zip(metadata[\"start\"], metadata.index)\n",
    "ends = zip(metadata[\"end\"], metadata.index)\n"
   ]
  }
 ],
 "metadata": {
  "kernelspec": {
   "display_name": "Python 3",
   "language": "python",
   "name": "python3"
  },
  "language_info": {
   "codemirror_mode": {
    "name": "ipython",
    "version": 3
   },
   "file_extension": ".py",
   "mimetype": "text/x-python",
   "name": "python",
   "nbconvert_exporter": "python",
   "pygments_lexer": "ipython3",
   "version": "3.9.13"
  }
 },
 "nbformat": 4,
 "nbformat_minor": 2
}
