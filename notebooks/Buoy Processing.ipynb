{
 "cells": [
  {
   "cell_type": "markdown",
   "id": "feb3fb54-fcf5-4ba3-9b61-89f4783c5415",
   "metadata": {},
   "source": [
    "# Processing the drifting buoy data\n",
    "\n",
    "Drift tracks from instruments deployed during the MOSAiC campaign were obtained from the Arctic Data Center and saved in the folder `data/adc_dn_tracks`. The \"DN\" stands for \"Distributed Network\", which is a set of autonomous stations deployed surrounding a heavily-instrumented crewed observatory as it drifted across the Arctic from 2019-2020. \n",
    "\n",
    "For this project, we need quality-controlled buoy positions at hourly resolution. The raw data is at a variety of time resolutions, from 5 minutes to 12-hourly, and the resolution may change across the lifetime of a buoy. (This is not accidental--high time resolution comes at a cost of battery life. So some buoys were switched to high time resolution, for example, when storms were forecast, so that the rapid ice motion in response to the fast-moving storm system could be captured).\n",
    "\n",
    "The files in `scripts/icedrift` contain functions for buoy processing that are in the process of being added to an open-source library. For now, since the library has not yet been listed at conda-forge or similar repositories, we'll add the package directly by adding the scripts folder to the path."
   ]
  },
  {
   "cell_type": "code",
   "execution_count": 5,
   "id": "e7580524-c472-4209-b3cc-aa6462768966",
   "metadata": {},
   "outputs": [],
   "source": [
    "import sys\n",
    "sys.path.append('../scripts')\n",
    "from icedrift import cleaning as cln"
   ]
  },
  {
   "cell_type": "code",
   "execution_count": null,
   "id": "0faeb5db-8953-464d-b475-535e4381433e",
   "metadata": {},
   "outputs": [],
   "source": [
    "# You can run the processing code as a cell magic like this\n",
    "# or run it separately in the command line\n",
    "%run ../scripts/process_mosaic.py"
   ]
  },
  {
   "cell_type": "markdown",
   "id": "d9b912ec-f41b-4da9-b132-3af12dd28eb6",
   "metadata": {},
   "source": [
    "To get more familiar with the data, try the following tasks.\n",
    "\n",
    "1. Choose a buoy with high temporal resolution (low f_min). Use Pandas to load the buoy data from the original folder, the qc_buoys folder, and from the interp_buoys folder. How do the time series differ? Did the quality control step remove many observations? Does the lower-frequency interpolated data  appear to represent the high-frequency data well?\n",
    "2. Choose a buoy with lower temporal resolution (f_min of 240). Repeat the same process as in (1). How does the data quality compare, from what you can tell? Does the interpolation process appear at this stage to add unrealistic features? (You'll get more of a feel for what's realistic or not as we go, and as we calculate other quantities from the buoy trajectories)\n",
    "3. Choose two buoys. How similar are the paths that they take?\n",
    "4. Find a buoy where the raw track has f_min close to 60 minutes and the qc_track is a different length. Can you find where the QC process flagged and dropped observations? Do you agree with the algorithm's choices?\n",
    "5. Using Cartopy or ProPlot, make a geographic plot showing the buoy trajectories. Make the buoy tracks for DN1 and DN2 different colors. (I recommend a North Polar Stereographic map projection)\n"
   ]
  },
  {
   "cell_type": "code",
   "execution_count": null,
   "id": "1dd10414-3d68-43fd-803d-596b3bb9e6f9",
   "metadata": {},
   "outputs": [],
   "source": []
  }
 ],
 "metadata": {
  "kernelspec": {
   "display_name": "Python 3 (ipykernel)",
   "language": "python",
   "name": "python3"
  },
  "language_info": {
   "codemirror_mode": {
    "name": "ipython",
    "version": 3
   },
   "file_extension": ".py",
   "mimetype": "text/x-python",
   "name": "python",
   "nbconvert_exporter": "python",
   "pygments_lexer": "ipython3",
   "version": "3.9.13"
  }
 },
 "nbformat": 4,
 "nbformat_minor": 5
}
